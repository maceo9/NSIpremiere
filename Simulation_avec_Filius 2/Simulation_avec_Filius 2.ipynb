{
 "cells": [
  {
   "cell_type": "markdown",
   "metadata": {},
   "source": [
    "# Simulation d'un réseau avec le logiciel FILIUS\n",
    "\n",
    "Il peut être fastidieux de mettre en place tout un réseau pour n'effectuer que quelques tests. À la place, nous allons utiliser un simulateur de réseau relativement simple à prendre en main, mais suffisamment performant.\n",
    "\n",
    "<h3 class='fa fa-graduation-cap' style=\"color: MediumSeaGreen\"> A faire vous même n°0 :</h3>\n",
    "\n",
    "- Si ce n'est pas déjà fait, **télécharger** puis **installer** la dernière version de [Filius](https://www.lernsoftware-filius.de/Herunterladen) *(la page web est en Allemand, mais le logiciel est aussi disponible en Anglais et en Français)*...\n",
    "\n",
    "\n",
    "<h3 class='fa fa-graduation-cap' style=\"color: MediumSeaGreen\"> A faire vous même n°1 :</h3>\n",
    "\n",
    "- **Prendre** en main le logiciel Filius à l'aide de la vidéo suivante proposée par David ROCHE :"
   ]
  },
  {
   "cell_type": "code",
   "execution_count": 1,
   "metadata": {},
   "outputs": [
    {
     "data": {
      "text/html": [
       "<center>\n",
       "    <iframe width=\"560\" height=\"315\" src=\"https://www.youtube-nocookie.com/embed/nzuRSOwdF5I\" frameborder=\"0\" allow=\"accelerometer; autoplay; clipboard-write; encrypted-media; gyroscope; picture-in-picture\" allowfullscreen></iframe>\n",
       "</center>\n"
      ],
      "text/plain": [
       "<IPython.core.display.HTML object>"
      ]
     },
     "metadata": {},
     "output_type": "display_data"
    }
   ],
   "source": [
    "%%HTML\n",
    "<center>\n",
    "    <iframe width=\"560\" height=\"315\" src=\"https://www.youtube-nocookie.com/embed/nzuRSOwdF5I\" frameborder=\"0\" allow=\"accelerometer; autoplay; clipboard-write; encrypted-media; gyroscope; picture-in-picture\" allowfullscreen></iframe>\n",
    "</center>"
   ]
  },
  {
   "cell_type": "markdown",
   "metadata": {},
   "source": [
    "<h3 class='fa fa-graduation-cap' style=\"color: MediumSeaGreen\"> A faire vous même n°2 :</h3>\n",
    "\n",
    "- En utilisant le logiciel Filius, **créer** un réseau de 4 machines (M1, M2, M3 et M4). L'adresse IP de la machine M1 est \"192.168.1.1\", choisissez les adresses IP des machines M2, M3 et M4.\n",
    "\n",
    "- **Effectuer** un \"ipconfig\" sur la machine \"M1\" afin de vérifier son adresse IP et de **déterminer** son adresse MAC (adresse physique)\n",
    "\n",
    "E1.94.OD.5C.12.2B\n",
    "\n",
    "- **Effectuer** un \"ping\" de la machine M2 vers la machine M4.\n",
    "\n",
    "\n",
    "<h3 class='fa fa-graduation-cap' style=\"color: darkorange\"> A faire vous même n°3 :</h3>\n",
    "\n",
    "- **Télécharger** le fichier [communication.fls](../ommunication.fls) puis l'**ouvrir** dans Filius. Ce réseau miniature contient deux ordinateurs et un serveur web.\n",
    "- en mode simulation (flèche verte), depuis l'ordinateur de Bob, par un clic droit **afficher les échanges de données** et par un clic gauche en ligne de commande **lancer** un ping vers l'ordinateur d'Alice...\n",
    "- **Expliquer** le rôle des trames de communication alors observées :\n",
    "\n",
    "Le role de ces trames est de comprendre les instructions envoyées de l'ordinateur de Bob vers celui d'Alice\n",
    "\n",
    "\n",
    "- **Faire** un clic droit sur les tables d'échanges de données pour les **vider**.\n",
    "\n",
    "-  **Démarrer** le Navigateur web sur l'ordinateur de Bob et **saisir** l'adresse IP du ServeurWeb dans la barre d'URL...\n",
    "- **Expliquer** le rôle des trames de communication alors observées :\n",
    "\n",
    "Le role de ces trames permet egalement d'expliquer les instruction envoyées a la machine pour trouver ce qui est demander.\n",
    "\n",
    "\n",
    "- **Ouvrir** dans l'éditeur de texte sur le serveur le fichier `index.html` du dossier `webserver` afin de remplacer dans la balise `<img>` le fichier image source par `src=\"tux-ski.jpg\"` puis **rafraichir** l'affichage de cette page web dans le navigateur de l'ordinateur de Bob. **Décrire** les différences avec les échanges de données précédemment observées :      \n",
    "\n",
    "...\n",
    "\n",
    "- **Recommencer** la dernière manipulation mais en faisant une erreur sur le nom du fichier image ; **Observer** alors les communications :\n",
    "\n",
    "...\n",
    "\n",
    "...\n",
    "\n",
    "\n",
    "<h3 class='fa fa-rocket' style=\"color: tomato\"> A faire vous même n°4 :</h3>\n",
    "\n",
    "- Indiquer quel dispositif minimal est nécessaire pour établir la communication entre deux machines ?\n",
    "\n",
    "Le dispositif minimal nécessaire pour établir la communication entre deux machines est un cable.\n",
    "\n",
    "- Indiquer quel dispositif est nécessaire pour établir la communication entre trois machines ?\n",
    "\n",
    "Le dispositif minimal nécessaire pour établir la communication entre trois machines est une switch.\n",
    "\n",
    "- Indiquer quel dispositif permet d'interconnecter des réseaux entre eux ?\n",
    "\n",
    "Le dispositif permettant d'interconnecter les réseaux entre est un routeur.\n",
    "\n",
    "- Que permet un DHCP ? L'ajouter à votre réseau...\n",
    "\n",
    "permet de servir une adresse IP.\n",
    "\n",
    "\n",
    "- Que permet un DNS ? L'ajouter à votre réseau...\n",
    "\n",
    "permet de traduire un nom de domaine en adresse IP.\n",
    "\n",
    "- Développer votre mini réseau Internet...\n"
   ]
  },
  {
   "cell_type": "code",
   "execution_count": null,
   "metadata": {},
   "outputs": [],
   "source": []
  }
 ],
 "metadata": {
  "kernelspec": {
   "display_name": "Python 3",
   "language": "python",
   "name": "python3"
  },
  "language_info": {
   "codemirror_mode": {
    "name": "ipython",
    "version": 3
   },
   "file_extension": ".py",
   "mimetype": "text/x-python",
   "name": "python",
   "nbconvert_exporter": "python",
   "pygments_lexer": "ipython3",
   "version": "3.7.1"
  },
  "toc": {
   "base_numbering": 1,
   "nav_menu": {},
   "number_sections": true,
   "sideBar": true,
   "skip_h1_title": false,
   "title_cell": "Table of Contents",
   "title_sidebar": "Contents",
   "toc_cell": false,
   "toc_position": {},
   "toc_section_display": true,
   "toc_window_display": false
  },
  "varInspector": {
   "cols": {
    "lenName": 16,
    "lenType": 16,
    "lenVar": 40
   },
   "kernels_config": {
    "python": {
     "delete_cmd_postfix": "",
     "delete_cmd_prefix": "del ",
     "library": "var_list.py",
     "varRefreshCmd": "print(var_dic_list())"
    },
    "r": {
     "delete_cmd_postfix": ") ",
     "delete_cmd_prefix": "rm(",
     "library": "var_list.r",
     "varRefreshCmd": "cat(var_dic_list()) "
    }
   },
   "types_to_exclude": [
    "module",
    "function",
    "builtin_function_or_method",
    "instance",
    "_Feature"
   ],
   "window_display": false
  }
 },
 "nbformat": 4,
 "nbformat_minor": 4
}
