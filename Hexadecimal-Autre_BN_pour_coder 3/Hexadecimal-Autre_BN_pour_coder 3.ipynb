{
 "cells": [
  {
   "cell_type": "markdown",
   "metadata": {},
   "source": [
    "# Le Bloc Note pour apprendre à coder en hexadécimal :\n",
    "\n",
    "Nous savons maintenant que de nos jours les ordinateurs comme pratiquement tous les systèmes numériques communiquent en faisant circuler des informations sous la forme de mots binaires à 8 bits = 1 octet que l'on nomme bytes même si cela n'a pas toujours été le cas : https://fr.wikipedia.org/wiki/Byte.\n",
    "\n",
    "Pour un humain (normalement constitué), il est fastidieux d'écrire ou de déchiffré à la volée de telles trames d'informations directement au format binaire :\n",
    "\n",
    "`010011100101001101001001001011000010000001100011001001110110010101110011011101000010000001100011011011110110111101101100001000000100001`\n",
    "\n",
    "Le format hexadécimal présente de façon plus condensée un message binaire constitué d'une suite d'octects."
   ]
  },
  {
   "cell_type": "markdown",
   "metadata": {
    "slideshow": {
     "slide_type": "slide"
    }
   },
   "source": [
    "# Système hexadécimal :"
   ]
  },
  {
   "cell_type": "markdown",
   "metadata": {},
   "source": [
    "C’est un système de base $16$ qui utilise donc seize symboles différents :\n",
    "\n",
    "$$ 0, 1, 2, 3, 4, 5, 6, 7, 8, 9, A, B, C, D, E, F$$\n",
    "\n",
    "Pour distinguer un nombre hexadécimal on indique le code ``0x`` (ou le symbole ``#``) avant le nombre ou l’indice $_{16}$ (ou $_h$) après le nombre.\n",
    "\n",
    "Les lettres A à F correspondent respectivement au nombre décimaux ? $10, 11, 12, 13, 14, 15$\n",
    "\n",
    "$AC53_{16}$ = $10 \\times 16^3 + 12 \\times 16^2 + 5 \\times 16^1 + 3 \\times 16^0$"
   ]
  },
  {
   "cell_type": "markdown",
   "metadata": {},
   "source": [
    "## Correspondance entre nombres de différentes bases :\n",
    "<img src=\"IMG_0890.jpg\" alt=\"Tableau de correspondance entre bases\">"
   ]
  },
  {
   "cell_type": "markdown",
   "metadata": {},
   "source": [
    "## Changement de base :\n",
    "\n",
    "### Conversion d’un nombre hexadécimal en binaire.\n",
    "\n",
    "Chaque symbole du nombre écrit dans le système hexadécimal est remplacé par son équivalent écrit dans le système binaire.\n",
    "\n",
    "Exemple : Convertir $ECA_{16}$ = ${1110_2\\over E_{16}}{1100_2\\over C_{16}}{1010_2\\over A_{16}}$ = $1110 1100 1010_2$ \n",
    "\n",
    "\n",
    "### Conversion d’un nombre binaire en hexadécimal.\n",
    "\n",
    "C’est l’inverse de la précédente. Il faut donc regrouper les 1 et les 0 du nombre par 4 en commençant par la droite, quitte à rajouter des 0 à gauche, puis chaque groupe est remplacé par le symbole hexadécimal correspondant.\n",
    "\n",
    "Exemple : Convertir $1100001101111_2$ = ${1_{16}\\over 0001_2}{8_{16}\\over 1000_2}{6_{16}\\over 0110_2}{F_{16}\\over 1111_2}$ = $186F_{16}$\n"
   ]
  },
  {
   "cell_type": "markdown",
   "metadata": {},
   "source": [
    "<h3 class='fa fa-graduation-cap' style=\"color: MediumSeaGreen\"> A faire vous même n°1 :</h3>\n",
    "\n",
    "Recoder en hexadécimal la trame d'information binaire donnée au début de ce notebook.\n",
    "\n",
    "\n",
    "<h3 class='fa fa-graduation-cap' style=\"color: darkorange\"> A faire vous même n°2 :</h3>\n",
    "\n",
    "L'objectif de cet exercice est de convertir des nombres entiers donnés en décimal, en binaire ou en héxadécimal, pour dessiner une image matricielle dans un quadrillage $8 \\times 8$.\n",
    "\n",
    "Chaque case de l'image correspond à un bit. Une ligne de l'image fait 8 cases, soit 8 bits ou 1 octet.\n",
    "\n",
    "Lorsque le bit est à 1 alors la case est noire, lorsque le bit est à 0 alors la case est blanche.\n",
    "\n",
    "#### Exemple :\n",
    "\n",
    "<img src=\"https://ericecmorlaix.github.io/img/NSI-Exemple-2D_Code.png\" alt=\"ExerciceCodage.png\">\n",
    "\n",
    "#### A faire vous même : **compléter** le quadrillage pour découvrir l'image...\n",
    "\n",
    "<img src=\"https://ericecmorlaix.github.io/img/NSI-2D_Code.png\" alt=\"ExerciceCodage.png\">\n",
    "\n",
    "#### Vérification :\n",
    "\n",
    "Un moyen de vérifer si on n'a pas fait d'erreur est de fournir un nombre qui pourrait être un code de validation.\n",
    "\n",
    "Cette méthode n'est pas fiable à 100% mais elle permet très souvent de savoir si une erreur a été commise.\n",
    "\n",
    "Pour chaque colonne, on compte le nombre de 1 ; si ce nombre est pair, on marque 0 ; s'il est impair, on marque 1. On obtient ainsi un nombre 8 bits (1 pour chaque colonne).\n",
    "\n",
    "Le code de validation de l'image ci-dessus est égal à 202. Utilisez-le pour valider votre codage.\n",
    "\n",
    "<img src=\"https://ericecmorlaix.github.io/img/NSI-Validation-2D_Code.png\" alt=\"ExerciceCodage.png\">\n",
    "\n",
    "![correction](IMG_0894.jpg)"
   ]
  },
  {
   "cell_type": "code",
   "execution_count": null,
   "metadata": {},
   "outputs": [],
   "source": [
    "print()"
   ]
  },
  {
   "cell_type": "markdown",
   "metadata": {},
   "source": [
    "## Fonctions de conversion de Python :\n",
    "\n",
    "La fonction `bin()` permet de convertir un nombre en binaire :"
   ]
  },
  {
   "cell_type": "code",
   "execution_count": 1,
   "metadata": {},
   "outputs": [
    {
     "data": {
      "text/plain": [
       "'0b1011011'"
      ]
     },
     "execution_count": 1,
     "metadata": {},
     "output_type": "execute_result"
    }
   ],
   "source": [
    "bin(91)"
   ]
  },
  {
   "cell_type": "code",
   "execution_count": 2,
   "metadata": {},
   "outputs": [
    {
     "data": {
      "text/plain": [
       "'0b1011011'"
      ]
     },
     "execution_count": 2,
     "metadata": {},
     "output_type": "execute_result"
    }
   ],
   "source": [
    "bin(0x5b)"
   ]
  },
  {
   "cell_type": "markdown",
   "metadata": {},
   "source": [
    "La fonction `hex()` permet de convertir un nombre en hexadécimal :"
   ]
  },
  {
   "cell_type": "code",
   "execution_count": null,
   "metadata": {},
   "outputs": [],
   "source": [
    "hex(91)"
   ]
  },
  {
   "cell_type": "code",
   "execution_count": null,
   "metadata": {},
   "outputs": [],
   "source": [
    "hex(0b1011011)"
   ]
  },
  {
   "cell_type": "markdown",
   "metadata": {},
   "source": [
    "La fonction `int()` permet de convertir un nombre en décimal :"
   ]
  },
  {
   "cell_type": "code",
   "execution_count": null,
   "metadata": {},
   "outputs": [],
   "source": [
    "int(0b1111010111)"
   ]
  },
  {
   "cell_type": "code",
   "execution_count": null,
   "metadata": {},
   "outputs": [],
   "source": [
    "int(0x5b)"
   ]
  },
  {
   "cell_type": "markdown",
   "metadata": {},
   "source": [
    "## Codage Hexadécimal des couleurs :\n",
    "Les couleurs RVB peuvent être exprimées dans différents formats comme : (34,255,67) ou #90FF56.\n",
    "\n",
    "(34,255,67) indique les composantes Rouge=34, Vert=255, Bleu=67 avec des nombres en base 10.\n",
    "\n",
    "Tandis que #90FF56 indique Rouge=90, Vert=FF, Bleu=56 en base 16.\n",
    "\n",
    "Le préfixe # indique seulement qu'il s'agit d'une écriture hexadécimale.\n",
    "\n",
    "<h3 class='fa fa-graduation-cap' style=\"color: MediumSeaGreen\"> A faire vous même n°3 :</h3>\n",
    "\n",
    "- Les deux codes proposés ci-dessus, (34,255,67) et #90FF56, représentent-ils la même couleur ?\n",
    "\n",
    ".....................................................\n",
    "\n",
    "Vérifiez votre réponse avec le module `ipythonblocks` et son sélectionneur de couleur intégré :\n",
    "\n",
    "> Sur iPad, vérifier si le module `ipythonblocks` est déjà installé :\n",
    "```Python\n",
    "%pip list\n",
    "```\n",
    "> Sinon il faut l'installer en faisant :\n",
    "```Python\n",
    "%pip install ipythonblocks\n",
    "```\n"
   ]
  },
  {
   "cell_type": "code",
   "execution_count": 1,
   "metadata": {},
   "outputs": [],
   "source": [
    "from ipythonblocks import show_color, embed_colorpicker"
   ]
  },
  {
   "cell_type": "code",
   "execution_count": 2,
   "metadata": {},
   "outputs": [
    {
     "name": "stdout",
     "output_type": "stream",
     "text": [
      "Package                           Version \n",
      "--------------------------------- --------\n",
      "appnope                           0.1.0   \n",
      "asn1crypto                        0.24.0  \n",
      "astropy                           4.0     \n",
      "atomicwrites                      1.2.1   \n",
      "attrs                             18.2.0  \n",
      "backcall                          0.1.0   \n",
      "bleach                            3.0.2   \n",
      "bokeh                             1.4.0   \n",
      "certifi                           2019.3.9\n",
      "cffi                              1.11.5  \n",
      "chardet                           3.0.4   \n",
      "cryptography                      2.7     \n",
      "cycler                            0.10.0  \n",
      "decorator                         4.3.0   \n",
      "defusedxml                        0.5.0   \n",
      "docutils                          0.14    \n",
      "entrypoints                       0.3     \n",
      "flit                              1.3     \n",
      "html5lib                          1.0.1   \n",
      "idna                              2.8     \n",
      "ipykernel                         5.1.0   \n",
      "ipysheet                          0.3.1   \n",
      "ipython                           7.3.0   \n",
      "ipython-genutils                  0.2.0   \n",
      "ipywidgets                        7.4.2   \n",
      "jedi                              0.13.2  \n",
      "Jinja2                            2.10    \n",
      "jsonschema                        2.6.0   \n",
      "jupyter                           1.0.0   \n",
      "jupyter-client                    5.2.4   \n",
      "jupyter-console                   6.0.0   \n",
      "jupyter-contrib-core              0.3.3   \n",
      "jupyter-contrib-nbextensions      0.5.1   \n",
      "jupyter-core                      4.4.0   \n",
      "jupyter-highlight-selected-word   0.2.0   \n",
      "jupyter-latex-envs                1.4.6   \n",
      "jupyter-nbextensions-configurator 0.4.1   \n",
      "kiwisolver                        1.0.1   \n",
      "lxml                              4.4.2   \n",
      "MarkupSafe                        1.1.0   \n",
      "matplotlib                        3.0.3   \n",
      "mistune                           0.8.4   \n",
      "more-itertools                    4.3.0   \n",
      "mpmath                            1.1.0   \n",
      "nbconvert                         5.4.1   \n",
      "nbformat                          4.4.0   \n",
      "notebook                          5.7.6   \n",
      "numpy                             1.16.0  \n",
      "packaging                         20.1    \n",
      "pandas                            0.24.2  \n",
      "pandocfilters                     1.4.2   \n",
      "parso                             0.3.1   \n",
      "pexpect                           4.6.0   \n",
      "pickleshare                       0.7.5   \n",
      "Pillow                            6.0.0   \n",
      "pip                               19.1.1  \n",
      "pluggy                            0.8.0   \n",
      "prometheus-client                 0.5.0   \n",
      "prompt-toolkit                    2.0.7   \n",
      "ptyprocess                        0.6.0   \n",
      "py                                1.7.0   \n",
      "pycparser                         2.19    \n",
      "Pygments                          2.3.1   \n",
      "pyOpenSSL                         19.0.0  \n",
      "pyparsing                         2.3.1   \n",
      "pytest                            4.0.2   \n",
      "python-dateutil                   2.7.5   \n",
      "pytoml                            0.1.20  \n",
      "pytz                              2018.9  \n",
      "PyYAML                            5.1     \n",
      "pyzmq                             17.1.2  \n",
      "qtconsole                         4.4.3   \n",
      "requests                          2.21.0  \n",
      "Send2Trash                        1.5.0   \n",
      "setuptools                        39.0.1  \n",
      "simplegeneric                     0.8.1   \n",
      "six                               1.12.0  \n",
      "sympy                             1.5.1   \n",
      "terminado                         0.8.1   \n",
      "testpath                          0.4.2   \n",
      "tornado                           6.0.1   \n",
      "traitlets                         4.3.2   \n",
      "urllib3                           1.24.1  \n",
      "wcwidth                           0.1.7   \n",
      "webencodings                      0.5.1   \n",
      "widgetsnbextension                3.4.2   \n",
      "Note: you may need to restart the kernel to use updated packages.\n"
     ]
    }
   ],
   "source": [
    "%pip list"
   ]
  },
  {
   "cell_type": "code",
   "execution_count": 12,
   "metadata": {
    "scrolled": false
   },
   "outputs": [
    {
     "ename": "NameError",
     "evalue": "name 'show_color' is not defined",
     "output_type": "error",
     "traceback": [
      "\u001b[0;31m---------------------------------------------------------------------------\u001b[0m",
      "\u001b[0;31mNameError\u001b[0m                                 Traceback (most recent call last)",
      "\u001b[0;32m<ipython-input-12-e5c589e02286>\u001b[0m in \u001b[0;36m<module>\u001b[0;34m\u001b[0m\n\u001b[0;32m----> 1\u001b[0;31m \u001b[0mshow_color\u001b[0m\u001b[0;34m(\u001b[0m\u001b[0;36m34\u001b[0m\u001b[0;34m,\u001b[0m\u001b[0;36m255\u001b[0m\u001b[0;34m,\u001b[0m\u001b[0;36m67\u001b[0m\u001b[0;34m)\u001b[0m\u001b[0;34m\u001b[0m\u001b[0;34m\u001b[0m\u001b[0m\n\u001b[0m",
      "\u001b[0;31mNameError\u001b[0m: name 'show_color' is not defined"
     ]
    }
   ],
   "source": [
    "show_color(34,255,67)"
   ]
  },
  {
   "cell_type": "code",
   "execution_count": 11,
   "metadata": {},
   "outputs": [
    {
     "name": "stdout",
     "output_type": "stream",
     "text": [
      "Requirement already satisfied: ipythonblocks in /private/var/mobile/Containers/Data/Application/316ED766-DD38-4609-BFC2-7C91AA389190/Library/lib/python3.7/site-packages (1.9.0)\n",
      "Requirement already satisfied: ipython>=4.0 in /private/var/mobile/Containers/Data/Application/316ED766-DD38-4609-BFC2-7C91AA389190/Library/lib/python3.7/site-packages (from ipythonblocks) (7.3.0)\n",
      "Requirement already satisfied: notebook>=4.0 in /private/var/mobile/Containers/Data/Application/316ED766-DD38-4609-BFC2-7C91AA389190/Library/lib/python3.7/site-packages (from ipythonblocks) (5.7.6)\n",
      "Requirement already satisfied: requests>=1.0 in /private/var/mobile/Containers/Data/Application/316ED766-DD38-4609-BFC2-7C91AA389190/Library/lib/python3.7/site-packages (from ipythonblocks) (2.21.0)\n",
      "Requirement already satisfied: jinja2 in /private/var/mobile/Containers/Data/Application/316ED766-DD38-4609-BFC2-7C91AA389190/Library/lib/python3.7/site-packages (from notebook>=4.0->ipythonblocks) (2.10)\n",
      "Requirement already satisfied: tornado<7,>=4.1 in /private/var/mobile/Containers/Data/Application/316ED766-DD38-4609-BFC2-7C91AA389190/Library/lib/python3.7/site-packages/tornado-6.0.1-py3.7-macosx-12.1-iPad6,7.egg (from notebook>=4.0->ipythonblocks) (6.0.1)\n",
      "Requirement already satisfied: pyzmq>=17 in /private/var/mobile/Containers/Data/Application/316ED766-DD38-4609-BFC2-7C91AA389190/Library/lib/python3.7/site-packages (from notebook>=4.0->ipythonblocks) (17.1.2)\n",
      "Requirement already satisfied: ipython_genutils in /private/var/mobile/Containers/Data/Application/316ED766-DD38-4609-BFC2-7C91AA389190/Library/lib/python3.7/site-packages (from notebook>=4.0->ipythonblocks) (0.2.0)\n",
      "Requirement already satisfied: traitlets>=4.2.1 in /private/var/mobile/Containers/Data/Application/316ED766-DD38-4609-BFC2-7C91AA389190/Library/lib/python3.7/site-packages (from notebook>=4.0->ipythonblocks) (4.3.2)\n",
      "Requirement already satisfied: jupyter_core>=4.4.0 in /private/var/mobile/Containers/Data/Application/316ED766-DD38-4609-BFC2-7C91AA389190/Library/lib/python3.7/site-packages (from notebook>=4.0->ipythonblocks) (4.4.0)\n",
      "Requirement already satisfied: jupyter_client>=5.2.0 in /private/var/mobile/Containers/Data/Application/316ED766-DD38-4609-BFC2-7C91AA389190/Library/lib/python3.7/site-packages (from notebook>=4.0->ipythonblocks) (5.2.4)\n",
      "Requirement already satisfied: nbformat in /private/var/mobile/Containers/Data/Application/316ED766-DD38-4609-BFC2-7C91AA389190/Library/lib/python3.7/site-packages (from notebook>=4.0->ipythonblocks) (4.4.0)\n",
      "Requirement already satisfied: nbconvert in /private/var/mobile/Containers/Data/Application/316ED766-DD38-4609-BFC2-7C91AA389190/Library/lib/python3.7/site-packages (from notebook>=4.0->ipythonblocks) (5.4.1)\n",
      "Requirement already satisfied: ipykernel in /private/var/mobile/Containers/Data/Application/316ED766-DD38-4609-BFC2-7C91AA389190/Library/lib/python3.7/site-packages (from notebook>=4.0->ipythonblocks) (5.1.0)\n",
      "Requirement already satisfied: Send2Trash in /private/var/mobile/Containers/Data/Application/316ED766-DD38-4609-BFC2-7C91AA389190/Library/lib/python3.7/site-packages (from notebook>=4.0->ipythonblocks) (1.5.0)\n",
      "Requirement already satisfied: terminado>=0.8.1 in /private/var/mobile/Containers/Data/Application/316ED766-DD38-4609-BFC2-7C91AA389190/Library/lib/python3.7/site-packages (from notebook>=4.0->ipythonblocks) (0.8.1)\n",
      "Requirement already satisfied: prometheus_client in /private/var/mobile/Containers/Data/Application/316ED766-DD38-4609-BFC2-7C91AA389190/Library/lib/python3.7/site-packages (from notebook>=4.0->ipythonblocks) (0.5.0)\n",
      "Requirement already satisfied: chardet<3.1.0,>=3.0.2 in /private/var/mobile/Containers/Data/Application/316ED766-DD38-4609-BFC2-7C91AA389190/Library/lib/python3.7/site-packages (from requests>=1.0->ipythonblocks) (3.0.4)\n",
      "Requirement already satisfied: urllib3<1.25,>=1.21.1 in /private/var/mobile/Containers/Data/Application/316ED766-DD38-4609-BFC2-7C91AA389190/Library/lib/python3.7/site-packages (from requests>=1.0->ipythonblocks) (1.24.1)\n",
      "Requirement already satisfied: idna<2.9,>=2.5 in /private/var/mobile/Containers/Data/Application/316ED766-DD38-4609-BFC2-7C91AA389190/Library/lib/python3.7/site-packages (from requests>=1.0->ipythonblocks) (2.8)\n",
      "Requirement already satisfied: certifi>=2017.4.17 in /private/var/mobile/Containers/Data/Application/316ED766-DD38-4609-BFC2-7C91AA389190/Library/lib/python3.7/site-packages (from requests>=1.0->ipythonblocks) (2019.3.9)\n",
      "Requirement already satisfied: MarkupSafe>=0.23 in /private/var/mobile/Containers/Data/Application/316ED766-DD38-4609-BFC2-7C91AA389190/Library/lib/python3.7/site-packages (from jinja2->notebook>=4.0->ipythonblocks) (1.1.0)\n",
      "Requirement already satisfied: decorator in /private/var/mobile/Containers/Data/Application/316ED766-DD38-4609-BFC2-7C91AA389190/Library/lib/python3.7/site-packages (from traitlets>=4.2.1->notebook>=4.0->ipythonblocks) (4.3.0)\n",
      "Requirement already satisfied: six in /private/var/mobile/Containers/Data/Application/316ED766-DD38-4609-BFC2-7C91AA389190/Library/lib/python3.7/site-packages (from traitlets>=4.2.1->notebook>=4.0->ipythonblocks) (1.12.0)\n",
      "Requirement already satisfied: python-dateutil>=2.1 in /private/var/mobile/Containers/Data/Application/316ED766-DD38-4609-BFC2-7C91AA389190/Library/lib/python3.7/site-packages (from jupyter_client>=5.2.0->notebook>=4.0->ipythonblocks) (2.7.5)\n",
      "Requirement already satisfied: jsonschema!=2.5.0,>=2.4 in /private/var/mobile/Containers/Data/Application/316ED766-DD38-4609-BFC2-7C91AA389190/Library/lib/python3.7/site-packages (from nbformat->notebook>=4.0->ipythonblocks) (2.6.0)\n",
      "Requirement already satisfied: mistune>=0.8.1 in /private/var/mobile/Containers/Data/Application/316ED766-DD38-4609-BFC2-7C91AA389190/Library/lib/python3.7/site-packages (from nbconvert->notebook>=4.0->ipythonblocks) (0.8.4)\n",
      "Requirement already satisfied: pygments in /private/var/mobile/Containers/Data/Application/316ED766-DD38-4609-BFC2-7C91AA389190/Library/lib/python3.7/site-packages (from nbconvert->notebook>=4.0->ipythonblocks) (2.3.1)\n",
      "Requirement already satisfied: entrypoints>=0.2.2 in /private/var/mobile/Containers/Data/Application/316ED766-DD38-4609-BFC2-7C91AA389190/Library/lib/python3.7/site-packages (from nbconvert->notebook>=4.0->ipythonblocks) (0.3)\n",
      "Requirement already satisfied: bleach in /private/var/mobile/Containers/Data/Application/316ED766-DD38-4609-BFC2-7C91AA389190/Library/lib/python3.7/site-packages (from nbconvert->notebook>=4.0->ipythonblocks) (3.0.2)\n",
      "Requirement already satisfied: pandocfilters>=1.4.1 in /private/var/mobile/Containers/Data/Application/316ED766-DD38-4609-BFC2-7C91AA389190/Library/lib/python3.7/site-packages (from nbconvert->notebook>=4.0->ipythonblocks) (1.4.2)\n",
      "Requirement already satisfied: testpath in /private/var/mobile/Containers/Data/Application/316ED766-DD38-4609-BFC2-7C91AA389190/Library/lib/python3.7/site-packages (from nbconvert->notebook>=4.0->ipythonblocks) (0.4.2)\n",
      "Requirement already satisfied: defusedxml in /private/var/mobile/Containers/Data/Application/316ED766-DD38-4609-BFC2-7C91AA389190/Library/lib/python3.7/site-packages (from nbconvert->notebook>=4.0->ipythonblocks) (0.5.0)\n",
      "Requirement already satisfied: ptyprocess; os_name != \"nt\" in /private/var/mobile/Containers/Data/Application/316ED766-DD38-4609-BFC2-7C91AA389190/Library/lib/python3.7/site-packages (from terminado>=0.8.1->notebook>=4.0->ipythonblocks) (0.6.0)\n",
      "Requirement already satisfied: webencodings in /private/var/mobile/Containers/Data/Application/316ED766-DD38-4609-BFC2-7C91AA389190/Library/lib/python3.7/site-packages (from bleach->nbconvert->notebook>=4.0->ipythonblocks) (0.5.1)\n",
      "Note: you may need to restart the kernel to use updated packages.\n"
     ]
    }
   ],
   "source": [
    "%pip install ipythonblocks"
   ]
  },
  {
   "cell_type": "markdown",
   "metadata": {},
   "source": [
    "> Pour plus d'information sur les couleurs utilisées en HTML :\n",
    "> - https://htmlcolorcodes.com/fr/selecteur-de-couleur/"
   ]
  },
  {
   "cell_type": "markdown",
   "metadata": {},
   "source": [
    "<h3 class='fa fa-code' style=\"color: tomato\"> A faire vous même n°4 :</h3>\n",
    "\n",
    "On observe que le module `ipythonbloks` ne prend pas les codes couleurs au format hexadécimal.\n",
    "Nous aurions donc besoin d'une fonction python qui prenne en entrée une chaine de caractères correspondante au code hexadécimal d'une couleur et qui renvoie son code convertit au format décimal dans une chaine de caractères en sortie...\n"
   ]
  },
  {
   "cell_type": "markdown",
   "metadata": {},
   "source": [
    "****\n",
    "## Références aux programmes :\n",
    "\n",
    "<style type=\"text/css\">\n",
    ".tg  {border-collapse:collapse;border-spacing:0;}\n",
    ".tg td{font-family:Arial, sans-serif;font-size:14px;padding:10px 5px;border-style:solid;border-width:1px;overflow:hidden;word-break:normal;border-color:black;}\n",
    ".tg th{font-family:Arial, sans-serif;font-size:14px;font-weight:normal;padding:10px 5px;border-style:solid;border-width:1px;overflow:hidden;word-break:normal;border-color:black;}\n",
    ".tg .tg-cv16{font-weight:bold;background-color:#dae8fc;border-color:inherit;text-align:center}\n",
    ".tg .tg-xldj{border-color:inherit;text-align:left}\n",
    "</style>\n",
    "<table class=\"tg\">\n",
    "  <tr>\n",
    "    <th class=\"tg-cv16\">Compétences développées</th>\n",
    "    <th class=\"tg-cv16\">Capacités attendues</th>\n",
    "    <th class=\"tg-cv16\">Commentaires</th>\n",
    "  </tr>\n",
    "  <tr>\n",
    "    <td class=\"tg-xldj\">Écriture d’un entier positif dans une base b ⩾ 2</td>\n",
    "    <td class=\"tg-xldj\">Passer de la représentation d’une base dans une autre.</td>\n",
    "    <td class=\"tg-xldj\">Les bases 2, 10 et 16 sont privilégiées.</td>\n",
    "  </tr>\n",
    "</table>"
   ]
  },
  {
   "cell_type": "markdown",
   "metadata": {
    "slideshow": {
     "slide_type": "-"
    }
   },
   "source": [
    "<a rel=\"license\" href=\"http://creativecommons.org/licenses/by-sa/4.0/\"><img alt=\"Licence Creative Commons\" style=\"border-width:0\" src=\"https://i.creativecommons.org/l/by-sa/4.0/88x31.png\" /></a><br />Ce document est mis à disposition selon les termes de la <a rel=\"license\" href=\"http://creativecommons.org/licenses/by-sa/4.0/\">Licence Creative Commons Attribution -  Partage dans les Mêmes Conditions 4.0 International</a>.\n",
    "\n",
    "Pour toute question, suggestion ou commentaire : <a href=\"mailto:eric.madec@ecmorlaix.fr\">eric.madec@ecmorlaix.fr</a>"
   ]
  }
 ],
 "metadata": {
  "gist": {
   "data": {
    "description": "1SI_2019-2020/ChaineInformation-Numeration.ipynb",
    "public": true
   },
   "id": ""
  },
  "hide_input": false,
  "kernelspec": {
   "display_name": "Python 3",
   "language": "python",
   "name": "python3"
  },
  "language_info": {
   "codemirror_mode": {
    "name": "ipython",
    "version": 3
   },
   "file_extension": ".py",
   "mimetype": "text/x-python",
   "name": "python",
   "nbconvert_exporter": "python",
   "pygments_lexer": "ipython3",
   "version": "3.7.1"
  },
  "toc": {
   "base_numbering": 1,
   "nav_menu": {},
   "number_sections": true,
   "sideBar": true,
   "skip_h1_title": false,
   "title_cell": "Table of Contents",
   "title_sidebar": "Contents",
   "toc_cell": false,
   "toc_position": {},
   "toc_section_display": true,
   "toc_window_display": false
  },
  "varInspector": {
   "cols": {
    "lenName": 16,
    "lenType": 16,
    "lenVar": 40
   },
   "kernels_config": {
    "python": {
     "delete_cmd_postfix": "",
     "delete_cmd_prefix": "del ",
     "library": "var_list.py",
     "varRefreshCmd": "print(var_dic_list())"
    },
    "r": {
     "delete_cmd_postfix": ") ",
     "delete_cmd_prefix": "rm(",
     "library": "var_list.r",
     "varRefreshCmd": "cat(var_dic_list()) "
    }
   },
   "types_to_exclude": [
    "module",
    "function",
    "builtin_function_or_method",
    "instance",
    "_Feature"
   ],
   "window_display": false
  }
 },
 "nbformat": 4,
 "nbformat_minor": 2
}
