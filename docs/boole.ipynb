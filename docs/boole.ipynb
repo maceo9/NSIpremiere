{
 "cells": [
  {
   "cell_type": "code",
   "execution_count": 1,
   "id": "romantic-collar",
   "metadata": {},
   "outputs": [
    {
     "ename": "ModuleNotFoundError",
     "evalue": "No module named 'microbit'",
     "output_type": "error",
     "traceback": [
      "\u001b[0;31m---------------------------------------------------------------------------\u001b[0m",
      "\u001b[0;31mModuleNotFoundError\u001b[0m                       Traceback (most recent call last)",
      "\u001b[0;32m<ipython-input-1-ae4ffb465fe2>\u001b[0m in \u001b[0;36m<module>\u001b[0;34m\u001b[0m\n\u001b[0;32m----> 1\u001b[0;31m \u001b[0;32mfrom\u001b[0m \u001b[0mmicrobit\u001b[0m \u001b[0;32mimport\u001b[0m \u001b[0;34m*\u001b[0m\u001b[0;34m\u001b[0m\u001b[0;34m\u001b[0m\u001b[0m\n\u001b[0m\u001b[1;32m      2\u001b[0m \u001b[0;34m\u001b[0m\u001b[0m\n\u001b[1;32m      3\u001b[0m \u001b[0;32mwhile\u001b[0m \u001b[0;32mTrue\u001b[0m\u001b[0;34m:\u001b[0m\u001b[0;34m\u001b[0m\u001b[0;34m\u001b[0m\u001b[0m\n\u001b[1;32m      4\u001b[0m     \u001b[0;32mif\u001b[0m \u001b[0;34m(\u001b[0m\u001b[0mbutton_a\u001b[0m\u001b[0;34m.\u001b[0m\u001b[0mis_pressed\u001b[0m\u001b[0;34m(\u001b[0m\u001b[0;34m)\u001b[0m \u001b[0;32mand\u001b[0m \u001b[0mbutton_b\u001b[0m\u001b[0;34m.\u001b[0m\u001b[0mis_pressed\u001b[0m\u001b[0;34m(\u001b[0m\u001b[0;34m)\u001b[0m\u001b[0;34m)\u001b[0m\u001b[0;34m:\u001b[0m\u001b[0;34m\u001b[0m\u001b[0;34m\u001b[0m\u001b[0m\n\u001b[1;32m      5\u001b[0m         \u001b[0mdisplay\u001b[0m\u001b[0;34m.\u001b[0m\u001b[0mshow\u001b[0m\u001b[0;34m(\u001b[0m\u001b[0mImage\u001b[0m\u001b[0;34m.\u001b[0m\u001b[0mYES\u001b[0m\u001b[0;34m)\u001b[0m\u001b[0;34m\u001b[0m\u001b[0;34m\u001b[0m\u001b[0m\n",
      "\u001b[0;31mModuleNotFoundError\u001b[0m: No module named 'microbit'"
     ]
    }
   ],
   "source": [
    "from microbit import *\n",
    "\n",
    "while True:    \n",
    "    if (button_a.is_pressed() and button_b.is_pressed()):\n",
    "        display.show(Image.YES)\n",
    "    else:\n",
    "        display.show(Image.NO)"
   ]
  },
  {
   "cell_type": "code",
   "execution_count": null,
   "id": "mysterious-knife",
   "metadata": {},
   "outputs": [],
   "source": [
    "from microbit import *\n",
    "\n",
    "while True:\n",
    "    if (button_a.is_pressed() or button_b.is_pressed()):\n",
    "        display.show(Image.YES)\n",
    "    else:\n",
    "        display.show(Image.NO) "
   ]
  },
  {
   "cell_type": "code",
   "execution_count": null,
   "id": "typical-sender",
   "metadata": {},
   "outputs": [],
   "source": [
    "from microbit import *\n",
    "\n",
    "while True:\n",
    "    if not button_a.is_pressed() :\n",
    "        display.show(Image.YES)\n",
    "    else:\n",
    "        display.show(Image.NO)"
   ]
  },
  {
   "cell_type": "code",
   "execution_count": null,
   "id": "aggregate-creek",
   "metadata": {},
   "outputs": [],
   "source": [
    "from microbit import *\n",
    "\n",
    "while True:    \n",
    "    if not(button_a.is_pressed() and button_b.is_pressed()):\n",
    "        display.show(Image.YES)\n",
    "    else:\n",
    "        display.show(Image.NO)"
   ]
  },
  {
   "cell_type": "code",
   "execution_count": null,
   "id": "heavy-exercise",
   "metadata": {},
   "outputs": [],
   "source": [
    "from microbit import *\n",
    "\n",
    "while True:    \n",
    "    if not (button_a.is_pressed() or button_b.is_pressed()):\n",
    "        display.show(Image.YES)\n",
    "    else:\n",
    "        display.show(Image.NO)"
   ]
  },
  {
   "cell_type": "code",
   "execution_count": null,
   "id": "radical-anime",
   "metadata": {},
   "outputs": [],
   "source": [
    "from microbit import *\n",
    "\n",
    "while True:    \n",
    "    if not button_a.is_pressed() and not button_b.is_pressed():\n",
    "        display.show(Image.YES)\n",
    "    else:\n",
    "        display.show(Image.NO)"
   ]
  },
  {
   "cell_type": "code",
   "execution_count": null,
   "id": "congressional-recruitment",
   "metadata": {},
   "outputs": [],
   "source": [
    "from microbit import *\n",
    "\n",
    "while True:    \n",
    "    if not button_a.is_pressed() or not button_b.is_pressed():\n",
    "        display.show(Image.YES)\n",
    "    else:\n",
    "        display.show(Image.NO)"
   ]
  }
 ],
 "metadata": {
  "kernelspec": {
   "display_name": "Python 3",
   "language": "python",
   "name": "python3"
  },
  "language_info": {
   "codemirror_mode": {
    "name": "ipython",
    "version": 3
   },
   "file_extension": ".py",
   "mimetype": "text/x-python",
   "name": "python",
   "nbconvert_exporter": "python",
   "pygments_lexer": "ipython3",
   "version": "3.7.10"
  }
 },
 "nbformat": 4,
 "nbformat_minor": 5
}
