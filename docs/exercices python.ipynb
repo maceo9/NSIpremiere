{
 "cells": [
  {
   "cell_type": "markdown",
   "id": "basic-wyoming",
   "metadata": {},
   "source": [
    "# 0. simple\n",
    "## Somme de deux entiers"
   ]
  },
  {
   "cell_type": "code",
   "execution_count": 10,
   "id": "physical-moldova",
   "metadata": {},
   "outputs": [],
   "source": [
    "def somme(a, b):\n",
    "    return (a + b)"
   ]
  },
  {
   "cell_type": "markdown",
   "id": "cloudy-guatemala",
   "metadata": {},
   "source": [
    "## Autour du range"
   ]
  },
  {
   "cell_type": "code",
   "execution_count": 7,
   "id": "composite-charles",
   "metadata": {},
   "outputs": [],
   "source": [
    "# UN SEUL PARAMETRE #\n",
    "\n",
    "# Les entiers de 0 (inclus) à 11 (exclu)\n",
    "liste_1 = list(range(11))\n",
    "\n",
    "# Les entiers de 0 (inclus) à 20 (exclu)\n",
    "liste_2 = list(range(20))\n",
    "\n",
    "# Les entiers de 0 (inclus) à 20 (inclus)\n",
    "liste_3 = list(range(21))\n",
    "\n",
    "# DEUX PARAMETRES #\n",
    "\n",
    "# Les entiers de 3 (inclus) à 10 (exlu)\n",
    "liste_4 = list(range(3, 10))\n",
    "\n",
    "# Les entiers de 12 (inclus) à 20 (inclus)\n",
    "liste_5 = list(range(12, 21))\n",
    "\n",
    "# Les entiers de -10 (inclus) à 1 (exlu)\n",
    "liste_6 = list(range(-10, 1))\n",
    "\n",
    "# Les entiers de -10 (inclus) à 1 (inclus)\n",
    "liste_7 = list(range(-10, 2))\n",
    "\n",
    "# TROIS PARAMETRES #\n",
    "\n",
    "# Les entiers de 20 (inclus) à 0 (exclu)\n",
    "liste_8 = list(range(20, 0, 1))\n",
    "\n",
    "# Les entiers de 500 (inclus) à 200 (exclu)\n",
    "liste_9 = list(range(500, 200, 1))\n",
    "\n",
    "# Les entiers de 10 (inclus) à -10 (exclu)\n",
    "liste_10 = list(range(10, -10, 1))\n",
    "\n",
    "# Les entiers de 25 (inclus) à -25 (inclus)\n",
    "liste_11 = list(range(25, -26, 1))\n",
    "\n",
    "# Les pairs de 1 (inclus) à 100 (exclu)\n",
    "liste_12 = list(range(1, 100, 2))\n",
    "\n",
    "# Les multiples de 3 de 0 (inclus) à 301 (exclu)\n",
    "liste_13 = list(range(0, 301, 3))\n",
    "\n",
    "# Les multiples de 7 de 0 (inclus) à 994 (inclus)\n",
    "liste_14 = list(range(0, 995, 7))\n",
    "\n",
    "# Les pairs de -100 (inclus) à 100 (exclu)\n",
    "liste_15 = list(range(-100, 100, 2))\n",
    "\n",
    "# Les multiples de 3 de 300 (inclus) à 102 (exclu)\n",
    "liste_16 = list(range(300, 102, 3))\n",
    "\n",
    "# Les multiples de 13 de 3445 (inclus) à -559 (inclus)\n",
    "liste_17 = list(range(3445, -560, 13))\n"
   ]
  },
  {
   "cell_type": "markdown",
   "id": "orange-lighter",
   "metadata": {},
   "source": [
    "# 1. boucle\n",
    "## Indice du minimum d'un tableau"
   ]
  },
  {
   "cell_type": "code",
   "execution_count": 9,
   "id": "racial-interval",
   "metadata": {},
   "outputs": [],
   "source": [
    "def indice_min(nombres):\n",
    "    a=nombres[0]\n",
    "    longueur= len(nombres)\n",
    "    for i in range(longueur):\n",
    "        if nombres[i] <= a:\n",
    "            a=nombres[i]\n",
    "    return a"
   ]
  },
  {
   "cell_type": "code",
   "execution_count": 10,
   "id": "minute-plenty",
   "metadata": {},
   "outputs": [
    {
     "data": {
      "text/plain": [
       "32"
      ]
     },
     "execution_count": 10,
     "metadata": {},
     "output_type": "execute_result"
    }
   ],
   "source": [
    "indice_min([45,32,76,87])"
   ]
  },
  {
   "cell_type": "markdown",
   "id": "variable-financing",
   "metadata": {},
   "source": [
    "## Remplacer une valeur xx"
   ]
  },
  {
   "cell_type": "code",
   "execution_count": 10,
   "id": "paperback-worcester",
   "metadata": {},
   "outputs": [
    {
     "ename": "SyntaxError",
     "evalue": "unexpected EOF while parsing (<ipython-input-10-bad0f60f1189>, line 2)",
     "output_type": "error",
     "traceback": [
      "\u001b[0;36m  File \u001b[0;32m\"<ipython-input-10-bad0f60f1189>\"\u001b[0;36m, line \u001b[0;32m2\u001b[0m\n\u001b[0;31m    \u001b[0m\n\u001b[0m    ^\u001b[0m\n\u001b[0;31mSyntaxError\u001b[0m\u001b[0;31m:\u001b[0m unexpected EOF while parsing\n"
     ]
    }
   ],
   "source": [
    "def remplacer(valeurs, valeur_cible, nouvelle_valeur):\n",
    "    "
   ]
  },
  {
   "cell_type": "markdown",
   "id": "comparative-legislature",
   "metadata": {},
   "source": [
    "## Maximum"
   ]
  },
  {
   "cell_type": "code",
   "execution_count": 1,
   "id": "permanent-monster",
   "metadata": {},
   "outputs": [],
   "source": [
    "def maximum(nombres):\n",
    "    maxi = nombres[0]\n",
    "    for i in range(len(nombres)):\n",
    "        if nombres[i] >= maxi:\n",
    "            maxi = nombres[i]\n",
    "    return maxi"
   ]
  },
  {
   "cell_type": "code",
   "execution_count": 7,
   "id": "conceptual-spiritual",
   "metadata": {},
   "outputs": [],
   "source": [
    "assert maximum([10, 34, 56, 89])==89"
   ]
  },
  {
   "cell_type": "markdown",
   "id": "nutritional-singapore",
   "metadata": {},
   "source": [
    "## Indice de la première occurence"
   ]
  },
  {
   "cell_type": "code",
   "execution_count": null,
   "id": "occupational-allocation",
   "metadata": {},
   "outputs": [],
   "source": [
    "def indice(element, tableau):\n",
    "    "
   ]
  },
  {
   "cell_type": "markdown",
   "id": "sunrise-terminology",
   "metadata": {},
   "source": [
    "## Calcul du dénivelé cumulé positif d'une course de montagne"
   ]
  },
  {
   "cell_type": "code",
   "execution_count": null,
   "id": "three-manufacturer",
   "metadata": {},
   "outputs": [],
   "source": [
    "def denivele_positif(altitudes):\n",
    "    "
   ]
  },
  {
   "cell_type": "markdown",
   "id": "atomic-lending",
   "metadata": {},
   "source": [
    "## Dernière occurence"
   ]
  },
  {
   "cell_type": "code",
   "execution_count": null,
   "id": "detailed-honey",
   "metadata": {},
   "outputs": [],
   "source": [
    "def derniere_occurrence(tableau, cible):\n",
    "    "
   ]
  },
  {
   "cell_type": "markdown",
   "id": "dental-hacker",
   "metadata": {},
   "source": [
    "## Moyenne simple"
   ]
  },
  {
   "cell_type": "code",
   "execution_count": 6,
   "id": "agreed-emphasis",
   "metadata": {},
   "outputs": [],
   "source": [
    "def moyenne(valeurs):\n",
    "    total= 0\n",
    "    longueur=len(valeurs)\n",
    "    for i in range(longueur):\n",
    "        total= total + valeurs[i]\n",
    "    return total / longueur"
   ]
  },
  {
   "cell_type": "markdown",
   "id": "endless-belgium",
   "metadata": {},
   "source": [
    "## Recherche des positions d'un élément dans un tableau"
   ]
  },
  {
   "cell_type": "code",
   "execution_count": null,
   "id": "sized-surgeon",
   "metadata": {},
   "outputs": [],
   "source": [
    "def indices(element, entiers):\n",
    "    "
   ]
  },
  {
   "cell_type": "markdown",
   "id": "hollow-anthropology",
   "metadata": {},
   "source": [
    "## Soleil couchant sur les bâtiments"
   ]
  },
  {
   "cell_type": "code",
   "execution_count": null,
   "id": "beautiful-sword",
   "metadata": {},
   "outputs": [],
   "source": [
    "def nb_batiments_eclaires(hauteurs):\n",
    "    "
   ]
  },
  {
   "cell_type": "markdown",
   "id": "novel-reliance",
   "metadata": {},
   "source": [
    "## Le premier minimum local"
   ]
  },
  {
   "cell_type": "code",
   "execution_count": null,
   "id": "toxic-louisiana",
   "metadata": {},
   "outputs": [],
   "source": [
    "def indice_arret(hauteurs):\n",
    "    "
   ]
  },
  {
   "cell_type": "markdown",
   "id": "superior-broadcasting",
   "metadata": {},
   "source": [
    "## Double du precedent dans un tableau"
   ]
  },
  {
   "cell_type": "code",
   "execution_count": null,
   "id": "modified-loading",
   "metadata": {},
   "outputs": [],
   "source": [
    "def nombres_puis_double(valeurs):\n",
    "    "
   ]
  },
  {
   "cell_type": "markdown",
   "id": "synthetic-watts",
   "metadata": {},
   "source": [
    "# 3. dictionnaire\n",
    "## Anniversaires"
   ]
  },
  {
   "cell_type": "code",
   "execution_count": null,
   "id": "controversial-prediction",
   "metadata": {},
   "outputs": [],
   "source": [
    "def anniversaires(naissances, mois):\n"
   ]
  },
  {
   "cell_type": "markdown",
   "id": "unavailable-frederick",
   "metadata": {},
   "source": [
    "## Compte doccurences"
   ]
  },
  {
   "cell_type": "code",
   "execution_count": 5,
   "id": "beneficial-translation",
   "metadata": {},
   "outputs": [],
   "source": [
    "def compte_occurrences(caractere, mot):\n",
    "    total = 0\n",
    "    for i in range (len(mot)):\n",
    "        if mot[i] == caractere:\n",
    "            total += 1\n",
    "            return total"
   ]
  },
  {
   "cell_type": "markdown",
   "id": "crazy-piece",
   "metadata": {},
   "source": [
    "## Palindrome"
   ]
  },
  {
   "cell_type": "code",
   "execution_count": 9,
   "id": "turkish-candy",
   "metadata": {},
   "outputs": [],
   "source": [
    "def cree_palindrome(mot, palindrome):\n",
    "    nouveau_mot= \"\"\n",
    "    nouveau_mot += mpt\n",
    "    nouveau_mot += palindrome\n",
    "    for i in range(len(mot)):\n",
    "        nouveau_mot += mot [-(i+1)]\n",
    "    return nouveau_mot"
   ]
  }
 ],
 "metadata": {
  "kernelspec": {
   "display_name": "Python 3",
   "language": "python",
   "name": "python3"
  },
  "language_info": {
   "codemirror_mode": {
    "name": "ipython",
    "version": 3
   },
   "file_extension": ".py",
   "mimetype": "text/x-python",
   "name": "python",
   "nbconvert_exporter": "python",
   "pygments_lexer": "ipython3",
   "version": "3.7.10"
  }
 },
 "nbformat": 4,
 "nbformat_minor": 5
}
